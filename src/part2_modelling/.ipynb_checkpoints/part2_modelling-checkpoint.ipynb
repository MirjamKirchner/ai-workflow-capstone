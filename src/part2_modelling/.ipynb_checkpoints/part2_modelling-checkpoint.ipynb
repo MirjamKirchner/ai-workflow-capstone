{
 "cells": [
  {
   "cell_type": "markdown",
   "id": "d14e1c26-8fc6-48ba-a246-b5d24d803ce5",
   "metadata": {},
   "source": [
    "# Evaluation criteria\n",
    "\n",
    "[ ] Were multiple models compared?\n",
    "\n",
    "[ ] Did they use visualisation to compare their model to the baseline model?"
   ]
  },
  {
   "cell_type": "markdown",
   "id": "7211883f-caab-42a5-814c-bd2fd8da18b5",
   "metadata": {},
   "source": [
    "# Analysis Plan\n",
    "[ ] Select performance metric\n",
    "\n",
    "[ ] Select baseline model\n",
    "\n",
    "[ ] Select model candidates\n",
    "\n",
    "[ ] Decide how to transfer knowledge between countries\n",
    "\n",
    "[ ] Model Training for baseline and candidate models ([random effects](https://medium.com/pew-research-center-decoded/using-fixed-and-random-effects-models-for-panel-data-in-python-a795865736ab))\n",
    "\n",
    "    [ ] Variable Selection\n",
    "    [ ] Performance Evaluation\n",
    "\n",
    "[ ] Model comparison and selection"
   ]
  },
  {
   "cell_type": "markdown",
   "id": "0d554b23-da98-428d-96cd-45291701f8fd",
   "metadata": {},
   "source": [
    "# Training Data"
   ]
  },
  {
   "cell_type": "markdown",
   "id": "5064edd3-d33c-4e95-bc3d-f805c85402a9",
   "metadata": {},
   "source": [
    "# Baseline Model"
   ]
  },
  {
   "cell_type": "code",
   "execution_count": null,
   "id": "bd77f15f-1626-4e8b-b46e-c4e2084aaabf",
   "metadata": {},
   "outputs": [],
   "source": []
  },
  {
   "cell_type": "markdown",
   "id": "0966b407-8929-4ad4-99bd-f276a1141fcc",
   "metadata": {},
   "source": [
    "# Model Candidates"
   ]
  },
  {
   "cell_type": "markdown",
   "id": "bf97aa88-fd16-4532-b928-54f0f36f1b59",
   "metadata": {},
   "source": [
    "# Model Comparison and Selection"
   ]
  },
  {
   "cell_type": "code",
   "execution_count": null,
   "id": "26eff66e-3e50-4f22-98f4-5c0ea941116f",
   "metadata": {},
   "outputs": [],
   "source": []
  }
 ],
 "metadata": {
  "kernelspec": {
   "display_name": "Python 3",
   "language": "python",
   "name": "python3"
  },
  "language_info": {
   "codemirror_mode": {
    "name": "ipython",
    "version": 3
   },
   "file_extension": ".py",
   "mimetype": "text/x-python",
   "name": "python",
   "nbconvert_exporter": "python",
   "pygments_lexer": "ipython3",
   "version": "3.8.7"
  }
 },
 "nbformat": 4,
 "nbformat_minor": 5
}
