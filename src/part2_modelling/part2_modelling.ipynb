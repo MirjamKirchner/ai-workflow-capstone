{
 "cells": [
  {
   "cell_type": "markdown",
   "id": "d14e1c26-8fc6-48ba-a246-b5d24d803ce5",
   "metadata": {},
   "source": [
    "# Evaluation criteria\n",
    "\n",
    "[ ] Were multiple models compared?\n",
    "\n",
    "[ ] Did they use visualisation to compare their model to the baseline model?"
   ]
  },
  {
   "cell_type": "code",
   "execution_count": null,
   "id": "857e43b6-7cbf-47be-9c99-9074c0360d70",
   "metadata": {},
   "outputs": [],
   "source": []
  }
 ],
 "metadata": {
  "kernelspec": {
   "display_name": "Python 3",
   "language": "python",
   "name": "python3"
  },
  "language_info": {
   "codemirror_mode": {
    "name": "ipython",
    "version": 3
   },
   "file_extension": ".py",
   "mimetype": "text/x-python",
   "name": "python",
   "nbconvert_exporter": "python",
   "pygments_lexer": "ipython3",
   "version": "3.8.7"
  }
 },
 "nbformat": 4,
 "nbformat_minor": 5
}
